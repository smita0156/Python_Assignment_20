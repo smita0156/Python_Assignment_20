{
 "cells": [
  {
   "cell_type": "code",
   "execution_count": null,
   "id": "8b3a86de-5400-4e15-8a79-d5db852d5397",
   "metadata": {},
   "outputs": [],
   "source": [
    "1. Set the variable test1 to the string &#39;This is a test of the emergency text system,&#39; and save test1 to a\n",
    "file named test.txt."
   ]
  },
  {
   "cell_type": "code",
   "execution_count": 1,
   "id": "0d8e3690-25b1-4db0-a01d-6f443f979a18",
   "metadata": {},
   "outputs": [
    {
     "data": {
      "text/plain": [
       "44"
      ]
     },
     "execution_count": 1,
     "metadata": {},
     "output_type": "execute_result"
    }
   ],
   "source": [
    "\n",
    "test1 = 'This is a test of the emergency text system,'\n",
    "filee = open('test.txt','w')\n",
    "filee.write(test1)\n",
    "     "
   ]
  },
  {
   "cell_type": "code",
   "execution_count": null,
   "id": "3b1d457d-5859-4fff-b738-0eef030c0db1",
   "metadata": {},
   "outputs": [],
   "source": [
    "2. Read the contents of the file test.txt into the variable test2. Is there a difference between test 1\n",
    "and test 2?"
   ]
  },
  {
   "cell_type": "code",
   "execution_count": 3,
   "id": "48ca97d7-d83f-4683-9e94-ea53d0f8a58e",
   "metadata": {},
   "outputs": [
    {
     "data": {
      "text/plain": [
       "''"
      ]
     },
     "execution_count": 3,
     "metadata": {},
     "output_type": "execute_result"
    }
   ],
   "source": [
    "\n",
    "file2 = open('test.txt','r')\n",
    "test2 = file2.readline()\n",
    "test2\n",
    "     "
   ]
  },
  {
   "cell_type": "code",
   "execution_count": null,
   "id": "908bc890-2ebb-46f7-bdfd-3e2a332d6d42",
   "metadata": {},
   "outputs": [],
   "source": [
    "'This is a test of the emergency text system,'"
   ]
  },
  {
   "cell_type": "code",
   "execution_count": 5,
   "id": "251ed4c6-7706-46ac-a02a-52a4a3fbc3ac",
   "metadata": {},
   "outputs": [],
   "source": [
    "\n",
    "if test1==test2:\n",
    "    print('Both are same')\n",
    "     "
   ]
  },
  {
   "cell_type": "code",
   "execution_count": null,
   "id": "8466299f-7c58-4063-8660-bab587956f30",
   "metadata": {},
   "outputs": [],
   "source": [
    "Both are same\n"
   ]
  },
  {
   "cell_type": "code",
   "execution_count": null,
   "id": "d67df0c6-b8c6-43e3-8a6a-4d82938f85c2",
   "metadata": {},
   "outputs": [],
   "source": [
    "3. Create a CSV file called books.csv by using these lines:\n",
    "title,author,year\n",
    "The Weirdstone of Brisingamen,Alan Garner,1960\n",
    "Perdido Street Station,China Miéville,2000\n",
    "Thud!,Terry Pratchett,2005\n",
    "The Spellman Files,Lisa Lutz,2007\n",
    "Small Gods,Terry Pratchett,1992"
   ]
  },
  {
   "cell_type": "code",
   "execution_count": null,
   "id": "659d0449-e7c8-41a2-bc05-318b10e0cd9b",
   "metadata": {},
   "outputs": [],
   "source": [
    "\n",
    "import csv\n",
    "rows =[ ['title','author','year'],\n",
    "    ['The Weirdstone of Brisingamen','Alan Garner',1960],\n",
    "    ['Perdido Street Station','China Miéville',2000],\n",
    "    ['Thud!','Terry Pratchett',2005],\n",
    "    ['The Spellman Files','Lisa Lutz',2007],\n",
    "    ['Small Gods','Terry Pratchett',1992]]\n",
    "with open('books.csv','w',newline='') as file:\n",
    "    writer = csv.writer(file)\n",
    "    writer.writerows(rows)\n",
    "     "
   ]
  },
  {
   "cell_type": "code",
   "execution_count": null,
   "id": "6c44bc57-b9a8-4db8-81d5-b03793faca49",
   "metadata": {},
   "outputs": [],
   "source": [
    "4. Use the sqlite3 module to create a SQLite database called books.db, and a table called books with\n",
    "these fields: title (text), author (text), and year (integer)."
   ]
  },
  {
   "cell_type": "code",
   "execution_count": null,
   "id": "c7847bb8-bd2b-4e2a-b2cc-2ce967f972d5",
   "metadata": {},
   "outputs": [],
   "source": [
    "\n",
    "import sqlite3\n",
    "conn = sqlite3.connect('books.db')\n",
    "c = conn.cursor()\n",
    "\n",
    "c.execute('create table books(title varchar(20),author varchar(20), year int)')\n",
    "conn.commit()\n",
    "     "
   ]
  },
  {
   "cell_type": "code",
   "execution_count": null,
   "id": "3821b1f9-a7d3-4938-940f-2372f1f697f5",
   "metadata": {},
   "outputs": [],
   "source": [
    "5. Read books.csv and insert its data into the book table."
   ]
  },
  {
   "cell_type": "code",
   "execution_count": null,
   "id": "a05dd2c7-d35d-4498-a7a3-0bb145dd13fa",
   "metadata": {},
   "outputs": [],
   "source": [
    "\n",
    "import pandas as pd\n",
    "\n",
    "read_books = pd.read_csv('books.csv',encoding='unicode_escape')\n",
    "read_books.to_sql('books', conn, if_exists='append', index = False)\n",
    "     "
   ]
  },
  {
   "cell_type": "code",
   "execution_count": null,
   "id": "1423b188-a9b4-433f-832e-b288be1a693a",
   "metadata": {},
   "outputs": [],
   "source": [
    "6. Select and print the title column from the book table in alphabetical order."
   ]
  },
  {
   "cell_type": "code",
   "execution_count": null,
   "id": "0f273d8b-b244-4e91-896b-01dbed128ccb",
   "metadata": {},
   "outputs": [],
   "source": [
    "\n",
    "c.execute('select title from books order by title asc')\n",
    "print(c.fetchall())\n",
    "     "
   ]
  },
  {
   "cell_type": "code",
   "execution_count": null,
   "id": "f801cfb6-9bee-4275-a9a2-cb9ff5d8b7f9",
   "metadata": {},
   "outputs": [],
   "source": [
    "[('Perdido Street Station',), ('Small Gods',), ('The Spellman Files',), ('The Weirdstone of Brisingamen',), ('Thud!',)]"
   ]
  },
  {
   "cell_type": "code",
   "execution_count": null,
   "id": "88856b2a-b459-4869-95c3-ae622f7e760c",
   "metadata": {},
   "outputs": [],
   "source": [
    "7. From the book table, select and print all columns in the order of publication."
   ]
  },
  {
   "cell_type": "code",
   "execution_count": null,
   "id": "204ea00f-e47e-430e-94d4-9f482f04f6c2",
   "metadata": {},
   "outputs": [],
   "source": [
    "\n",
    "c.execute('select title, author,year from books order by year')\n",
    "\n",
    "\n",
    "df = pd.DataFrame(c.fetchall(), columns=['title','author','year'])\n",
    "df\n",
    "     "
   ]
  },
  {
   "cell_type": "code",
   "execution_count": null,
   "id": "6efbd683-58a6-435d-9f9f-1a2acdc98981",
   "metadata": {},
   "outputs": [],
   "source": [
    "\ttitle\tauthor\tyear\n",
    "0\tThe Weirdstone of Brisingamen\tAlan Garner\t1960\n",
    "1\tSmall Gods\tTerry Pratchett\t1992\n",
    "2\tPerdido Street Station\tChina MiÃ©ville\t2000\n",
    "3\tThud!\tTerry Pratchett\t2005\n",
    "4\tThe Spellman Files\tLisa Lutz\t2007"
   ]
  },
  {
   "cell_type": "code",
   "execution_count": null,
   "id": "3d3135ae-a09e-44ed-831e-b4ecead3d624",
   "metadata": {},
   "outputs": [],
   "source": [
    "8. Use the sqlalchemy module to connect to the sqlite3 database books.db that you just made in\n",
    "exercise 6."
   ]
  },
  {
   "cell_type": "code",
   "execution_count": null,
   "id": "022b636c-c57d-4fda-a998-a49ebdf154eb",
   "metadata": {},
   "outputs": [],
   "source": [
    "\n",
    "import sqlalchemy\n",
    "engine = sqlalchemy.create_engine(\"sqlite:///books.db\")\n",
    "rows = engine.execute('select * from books')\n",
    "for i in rows:\n",
    "    print(i)\n",
    "     "
   ]
  },
  {
   "cell_type": "code",
   "execution_count": null,
   "id": "f9058fcc-b650-4184-afcc-b18a3e1797bf",
   "metadata": {},
   "outputs": [],
   "source": [
    "('The Weirdstone of Brisingamen', 'Alan Garner', 1960)\n",
    "('Perdido Street Station', 'China MiÃ©ville', 2000)\n",
    "('Thud!', 'Terry Pratchett', 2005)\n",
    "('The Spellman Files', 'Lisa Lutz', 2007)\n",
    "('Small Gods', 'Terry Pratchett', 1992)"
   ]
  },
  {
   "cell_type": "code",
   "execution_count": null,
   "id": "6c8ef60b-6607-4207-9a82-067e60c92702",
   "metadata": {},
   "outputs": [],
   "source": [
    "9. Install the Redis server and the Python redis library (pip install redis) on your computer. Create a\n",
    "Redis hash called test with the fields count (1) and name (&#39;Fester Bestertester&#39;). Print all the fields for\n",
    "test."
   ]
  },
  {
   "cell_type": "code",
   "execution_count": 9,
   "id": "bb806b73-95d8-421b-9c5b-df4ba1fdd3f6",
   "metadata": {},
   "outputs": [
    {
     "name": "stdout",
     "output_type": "stream",
     "text": [
      "Collecting redis\n",
      "  Downloading redis-5.0.1-py3-none-any.whl (250 kB)\n",
      "\u001b[2K     \u001b[90m━━━━━━━━━━━━━━━━━━━━━━━━━━━━━━━━━━━━━━\u001b[0m \u001b[32m250.3/250.3 kB\u001b[0m \u001b[31m22.4 MB/s\u001b[0m eta \u001b[36m0:00:00\u001b[0m\n",
      "\u001b[?25hCollecting async-timeout>=4.0.2\n",
      "  Downloading async_timeout-4.0.3-py3-none-any.whl (5.7 kB)\n",
      "Installing collected packages: async-timeout, redis\n",
      "Successfully installed async-timeout-4.0.3 redis-5.0.1\n"
     ]
    }
   ],
   "source": [
    "\n",
    "!pip install redis\n",
    "     "
   ]
  },
  {
   "cell_type": "code",
   "execution_count": null,
   "id": "bf1c670a-1663-4aba-adec-a9784d45c356",
   "metadata": {},
   "outputs": [],
   "source": [
    "\n",
    "import redis\n",
    "conn = redis.Redis()\n",
    "conn.delete('test')\n",
    "conn.hmset('test', {'count': 1, 'name': 'Fester Bestertester'})\n",
    "conn.hgetall('test')\n",
    "     "
   ]
  },
  {
   "cell_type": "code",
   "execution_count": null,
   "id": "ba86e640-3855-4195-a1f2-edafa0e25d35",
   "metadata": {},
   "outputs": [],
   "source": [
    "10. Increment the count field of test and print it."
   ]
  },
  {
   "cell_type": "code",
   "execution_count": null,
   "id": "21913a8f-5c06-44b9-b138-bc43a51857b7",
   "metadata": {},
   "outputs": [],
   "source": [
    "\n",
    "conn.hincrby('test','count', 3)\n",
    "     "
   ]
  }
 ],
 "metadata": {
  "kernelspec": {
   "display_name": "Python 3 (ipykernel)",
   "language": "python",
   "name": "python3"
  },
  "language_info": {
   "codemirror_mode": {
    "name": "ipython",
    "version": 3
   },
   "file_extension": ".py",
   "mimetype": "text/x-python",
   "name": "python",
   "nbconvert_exporter": "python",
   "pygments_lexer": "ipython3",
   "version": "3.10.6"
  }
 },
 "nbformat": 4,
 "nbformat_minor": 5
}
